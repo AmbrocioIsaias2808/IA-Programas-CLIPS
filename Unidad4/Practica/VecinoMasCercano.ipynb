{
 "cells": [
  {
   "cell_type": "code",
   "execution_count": 2,
   "metadata": {},
   "outputs": [],
   "source": [
    "import numpy as np\n",
    "import matplotlib.pyplot as plt\n",
    "import pandas as pd\n",
    "import mglearn"
   ]
  },
  {
   "cell_type": "code",
   "execution_count": 6,
   "metadata": {},
   "outputs": [],
   "source": [
    "\n",
    "data= np.array([[7,3.6],\n",
    "               [7.5,3.5],\n",
    "               [8,3.9],\n",
    "               [8.3,4.33],\n",
    "               [8.5,3.5],\n",
    "               [8.5,4],\n",
    "               [8.5,4],\n",
    "               [8.5,3.5],\n",
    "               [8.5,3.9],\n",
    "               [8.5,3.5],\n",
    "               [8.6,4],\n",
    "               [8.6,4.2],\n",
    "               [8.6,4.5],\n",
    "               [8.6,4],\n",
    "               [8.7,3.8],\n",
    "               [8.7,3.4],\n",
    "               [9,4],\n",
    "               [10,3.0],\n",
    "               [10,4.2],\n",
    "               [10,3.5]]\n",
    "              )\n",
    "\n",
    "#D = Flor del desierto = 0\n",
    "#C = Corona de cristo = 1\n",
    "target = np.array([0,0,0,0,0,0,1,1,1,1,0,0,0,1,0,1,1,1,1,1]);\n",
    "\n",
    "target_names = np.array(['Flor del Desierto', 'Corona de Cristo']);\n",
    "\n",
    "feature_names = ['largo', 'ancho']\n",
    "\n",
    "dataset={\n",
    "    'data'           : data,\n",
    "    'target'         : target,\n",
    "    'target_names'   : target_names,\n",
    "    'feature_names' : feature_names\n",
    "}"
   ]
  },
  {
   "cell_type": "code",
   "execution_count": 4,
   "metadata": {},
   "outputs": [
    {
     "name": "stdout",
     "output_type": "stream",
     "text": [
      "X_train shape: (15, 2)\n",
      "y_train shape: (15,)\n",
      "X_test shape: (5, 2)\n",
      "y_test shape: (5,)\n"
     ]
    }
   ],
   "source": [
    "from sklearn.model_selection import train_test_split\n",
    "X_train, X_test, y_train, y_test = train_test_split(\n",
    "    dataset['data'], dataset['target'], random_state=0)\n",
    "\n",
    "print(\"X_train shape: {}\".format(X_train.shape))\n",
    "print(\"y_train shape: {}\".format(y_train.shape))\n",
    "\n",
    "print(\"X_test shape: {}\".format(X_test.shape))\n",
    "print(\"y_test shape: {}\".format(y_test.shape))"
   ]
  },
  {
   "cell_type": "code",
   "execution_count": 7,
   "metadata": {},
   "outputs": [
    {
     "data": {
      "image/png": "[encoded data removed]",
      "text/plain": [
       "<Figure size 1080x1080 with 4 Axes>"
      ]
     },
     "metadata": {
      "needs_background": "light"
     },
     "output_type": "display_data"
    }
   ],
   "source": [
    "# create dataframe from data in X_train\n",
    "# label the columns using the strings in iris_dataset.feature_names\n",
    "dataframe = pd.DataFrame(X_train, columns=dataset['feature_names'])\n",
    "# create a scatter matrix from the dataframe, color by y_train\n",
    "grr = pd.plotting.scatter_matrix(dataframe, c=y_train, figsize=(15, 15), marker='o',\n",
    " hist_kwds={'bins': 20}, s=60, alpha=.8, cmap=mglearn.cm3)"
   ]
  },
  {
   "cell_type": "code",
   "execution_count": 5,
   "metadata": {},
   "outputs": [],
   "source": [
    "from sklearn.neighbors import KNeighborsClassifier\n",
    "knn = KNeighborsClassifier(n_neighbors=1) #Nota: el parametro n_neighbors indica el numero de vecinos cercanos a considerar"
   ]
  },
  {
   "cell_type": "code",
   "execution_count": 6,
   "metadata": {},
   "outputs": [
    {
     "data": {
      "text/plain": [
       "KNeighborsClassifier(n_neighbors=1)"
      ]
     },
     "execution_count": 6,
     "metadata": {},
     "output_type": "execute_result"
    }
   ],
   "source": [
    "knn.fit(X_train, y_train)"
   ]
  },
  {
   "cell_type": "code",
   "execution_count": 7,
   "metadata": {},
   "outputs": [
    {
     "name": "stdout",
     "output_type": "stream",
     "text": [
      "X_new.shape: (1, 2)\n"
     ]
    }
   ],
   "source": [
    "X_new = np.array([[8.63, 3.825]])\n",
    "print(\"X_new.shape: {}\".format(X_new.shape))"
   ]
  },
  {
   "cell_type": "code",
   "execution_count": 8,
   "metadata": {},
   "outputs": [
    {
     "name": "stdout",
     "output_type": "stream",
     "text": [
      "Prediction: [0]\n",
      "Predicted target name: ['Flor del Desierto']\n"
     ]
    }
   ],
   "source": [
    "prediction = knn.predict(X_new)\n",
    "print(\"Prediction: {}\".format(prediction))\n",
    "print(\"Predicted target name: {}\".format( dataset['target_names'][prediction]))"
   ]
  },
  {
   "cell_type": "code",
   "execution_count": 9,
   "metadata": {},
   "outputs": [
    {
     "name": "stdout",
     "output_type": "stream",
     "text": [
      "Test set score: 80.00\n"
     ]
    }
   ],
   "source": [
    "print(\"Test set score: {:.2f}\".format(100*knn.score(X_test, y_test)))"
   ]
  }
 ],
 "metadata": {
  "kernelspec": {
   "display_name": "python3.6",
   "language": "python",
   "name": "python3.6"
  },
  "language_info": {
   "codemirror_mode": {
    "name": "ipython",
    "version": 3
   },
   "file_extension": ".py",
   "mimetype": "text/x-python",
   "name": "python",
   "nbconvert_exporter": "python",
   "pygments_lexer": "ipython3",
   "version": "3.6.9"
  }
 },
 "nbformat": 4,
 "nbformat_minor": 4
}
